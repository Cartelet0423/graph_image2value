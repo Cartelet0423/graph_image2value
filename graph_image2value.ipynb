{
  "nbformat": 4,
  "nbformat_minor": 0,
  "metadata": {
    "colab": {
      "name": "graph_image2value.ipynb",
      "provenance": []
    },
    "kernelspec": {
      "name": "python3",
      "display_name": "Python 3"
    },
    "widgets": {
      "application/vnd.jupyter.widget-state+json": {
        "88b738c19eb2468cb99ff186c058d468": {
          "model_module": "@jupyter-widgets/controls",
          "model_name": "VBoxModel",
          "state": {
            "_view_name": "VBoxView",
            "_dom_classes": [
              "widget-interact"
            ],
            "_model_name": "VBoxModel",
            "_view_module": "@jupyter-widgets/controls",
            "_model_module_version": "1.5.0",
            "_view_count": null,
            "_view_module_version": "1.5.0",
            "box_style": "",
            "layout": "IPY_MODEL_2d50b1d66ed24587bc70d3719951510e",
            "_model_module": "@jupyter-widgets/controls",
            "children": [
              "IPY_MODEL_dde19a9154a24982b80e78fc077e2069",
              "IPY_MODEL_fc9c7034a091452f80c264e7e9aa4b5e",
              "IPY_MODEL_eafd11db773a4dd791a5a6b0ca30a183",
              "IPY_MODEL_4481fcf021254c4a9050df845da21a32",
              "IPY_MODEL_2599b7cef947432391f200dbeb9b8591"
            ]
          }
        },
        "2d50b1d66ed24587bc70d3719951510e": {
          "model_module": "@jupyter-widgets/base",
          "model_name": "LayoutModel",
          "state": {
            "_view_name": "LayoutView",
            "grid_template_rows": null,
            "right": null,
            "justify_content": null,
            "_view_module": "@jupyter-widgets/base",
            "overflow": null,
            "_model_module_version": "1.2.0",
            "_view_count": null,
            "flex_flow": null,
            "width": null,
            "min_width": null,
            "border": null,
            "align_items": null,
            "bottom": null,
            "_model_module": "@jupyter-widgets/base",
            "top": null,
            "grid_column": null,
            "overflow_y": null,
            "overflow_x": null,
            "grid_auto_flow": null,
            "grid_area": null,
            "grid_template_columns": null,
            "flex": null,
            "_model_name": "LayoutModel",
            "justify_items": null,
            "grid_row": null,
            "max_height": null,
            "align_content": null,
            "visibility": null,
            "align_self": null,
            "height": null,
            "min_height": null,
            "padding": null,
            "grid_auto_rows": null,
            "grid_gap": null,
            "max_width": null,
            "order": null,
            "_view_module_version": "1.2.0",
            "grid_template_areas": null,
            "object_position": null,
            "object_fit": null,
            "grid_auto_columns": null,
            "margin": null,
            "display": null,
            "left": null
          }
        },
        "dde19a9154a24982b80e78fc077e2069": {
          "model_module": "@jupyter-widgets/controls",
          "model_name": "IntSliderModel",
          "state": {
            "_view_name": "IntSliderView",
            "style": "IPY_MODEL_0c5622d605ba49789c6b5c425fa7a198",
            "_dom_classes": [],
            "description": "x_min",
            "step": 1,
            "_model_name": "IntSliderModel",
            "orientation": "horizontal",
            "max": 687,
            "_view_module": "@jupyter-widgets/controls",
            "_model_module_version": "1.5.0",
            "value": 58,
            "_view_count": null,
            "disabled": false,
            "_view_module_version": "1.5.0",
            "min": 0,
            "continuous_update": true,
            "readout_format": "d",
            "description_tooltip": null,
            "readout": true,
            "_model_module": "@jupyter-widgets/controls",
            "layout": "IPY_MODEL_2a60e513b4674619a56a1c17be5c1bcb"
          }
        },
        "fc9c7034a091452f80c264e7e9aa4b5e": {
          "model_module": "@jupyter-widgets/controls",
          "model_name": "IntSliderModel",
          "state": {
            "_view_name": "IntSliderView",
            "style": "IPY_MODEL_a72faf7f31fc47c0a0870a7aae9d0f47",
            "_dom_classes": [],
            "description": "x_max",
            "step": 1,
            "_model_name": "IntSliderModel",
            "orientation": "horizontal",
            "max": 687,
            "_view_module": "@jupyter-widgets/controls",
            "_model_module_version": "1.5.0",
            "value": 675,
            "_view_count": null,
            "disabled": false,
            "_view_module_version": "1.5.0",
            "min": 0,
            "continuous_update": true,
            "readout_format": "d",
            "description_tooltip": null,
            "readout": true,
            "_model_module": "@jupyter-widgets/controls",
            "layout": "IPY_MODEL_37bae730b17e42a8acac303a2d18a7b5"
          }
        },
        "eafd11db773a4dd791a5a6b0ca30a183": {
          "model_module": "@jupyter-widgets/controls",
          "model_name": "IntSliderModel",
          "state": {
            "_view_name": "IntSliderView",
            "style": "IPY_MODEL_3d346714fd6645978b48861d2f712390",
            "_dom_classes": [],
            "description": "y_min",
            "step": 1,
            "_model_name": "IntSliderModel",
            "orientation": "horizontal",
            "max": 503,
            "_view_module": "@jupyter-widgets/controls",
            "_model_module_version": "1.5.0",
            "value": 70,
            "_view_count": null,
            "disabled": false,
            "_view_module_version": "1.5.0",
            "min": 0,
            "continuous_update": true,
            "readout_format": "d",
            "description_tooltip": null,
            "readout": true,
            "_model_module": "@jupyter-widgets/controls",
            "layout": "IPY_MODEL_a637bc5c1ed8418fa6f788bf5b124a97"
          }
        },
        "4481fcf021254c4a9050df845da21a32": {
          "model_module": "@jupyter-widgets/controls",
          "model_name": "IntSliderModel",
          "state": {
            "_view_name": "IntSliderView",
            "style": "IPY_MODEL_57efda83efcf40df8abefe3e46a035d9",
            "_dom_classes": [],
            "description": "y_max",
            "step": 1,
            "_model_name": "IntSliderModel",
            "orientation": "horizontal",
            "max": 503,
            "_view_module": "@jupyter-widgets/controls",
            "_model_module_version": "1.5.0",
            "value": 488,
            "_view_count": null,
            "disabled": false,
            "_view_module_version": "1.5.0",
            "min": 0,
            "continuous_update": true,
            "readout_format": "d",
            "description_tooltip": null,
            "readout": true,
            "_model_module": "@jupyter-widgets/controls",
            "layout": "IPY_MODEL_2ca156805504457da72e88c31a92a6b2"
          }
        },
        "2599b7cef947432391f200dbeb9b8591": {
          "model_module": "@jupyter-widgets/output",
          "model_name": "OutputModel",
          "state": {
            "_view_name": "OutputView",
            "msg_id": "",
            "_dom_classes": [],
            "_model_name": "OutputModel",
            "outputs": [
              {
                "output_type": "display_data",
                "metadata": {
                  "tags": [],
                  "needs_background": "light"
                },
                "image/png": "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\n",
                "text/plain": "<Figure size 504x504 with 1 Axes>"
              }
            ],
            "_view_module": "@jupyter-widgets/output",
            "_model_module_version": "1.0.0",
            "_view_count": null,
            "_view_module_version": "1.0.0",
            "layout": "IPY_MODEL_8c4ec11cf25f47339dc948d331df3c49",
            "_model_module": "@jupyter-widgets/output"
          }
        },
        "0c5622d605ba49789c6b5c425fa7a198": {
          "model_module": "@jupyter-widgets/controls",
          "model_name": "SliderStyleModel",
          "state": {
            "_view_name": "StyleView",
            "handle_color": null,
            "_model_name": "SliderStyleModel",
            "description_width": "",
            "_view_module": "@jupyter-widgets/base",
            "_model_module_version": "1.5.0",
            "_view_count": null,
            "_view_module_version": "1.2.0",
            "_model_module": "@jupyter-widgets/controls"
          }
        },
        "2a60e513b4674619a56a1c17be5c1bcb": {
          "model_module": "@jupyter-widgets/base",
          "model_name": "LayoutModel",
          "state": {
            "_view_name": "LayoutView",
            "grid_template_rows": null,
            "right": null,
            "justify_content": null,
            "_view_module": "@jupyter-widgets/base",
            "overflow": null,
            "_model_module_version": "1.2.0",
            "_view_count": null,
            "flex_flow": null,
            "width": null,
            "min_width": null,
            "border": null,
            "align_items": null,
            "bottom": null,
            "_model_module": "@jupyter-widgets/base",
            "top": null,
            "grid_column": null,
            "overflow_y": null,
            "overflow_x": null,
            "grid_auto_flow": null,
            "grid_area": null,
            "grid_template_columns": null,
            "flex": null,
            "_model_name": "LayoutModel",
            "justify_items": null,
            "grid_row": null,
            "max_height": null,
            "align_content": null,
            "visibility": null,
            "align_self": null,
            "height": null,
            "min_height": null,
            "padding": null,
            "grid_auto_rows": null,
            "grid_gap": null,
            "max_width": null,
            "order": null,
            "_view_module_version": "1.2.0",
            "grid_template_areas": null,
            "object_position": null,
            "object_fit": null,
            "grid_auto_columns": null,
            "margin": null,
            "display": null,
            "left": null
          }
        },
        "a72faf7f31fc47c0a0870a7aae9d0f47": {
          "model_module": "@jupyter-widgets/controls",
          "model_name": "SliderStyleModel",
          "state": {
            "_view_name": "StyleView",
            "handle_color": null,
            "_model_name": "SliderStyleModel",
            "description_width": "",
            "_view_module": "@jupyter-widgets/base",
            "_model_module_version": "1.5.0",
            "_view_count": null,
            "_view_module_version": "1.2.0",
            "_model_module": "@jupyter-widgets/controls"
          }
        },
        "37bae730b17e42a8acac303a2d18a7b5": {
          "model_module": "@jupyter-widgets/base",
          "model_name": "LayoutModel",
          "state": {
            "_view_name": "LayoutView",
            "grid_template_rows": null,
            "right": null,
            "justify_content": null,
            "_view_module": "@jupyter-widgets/base",
            "overflow": null,
            "_model_module_version": "1.2.0",
            "_view_count": null,
            "flex_flow": null,
            "width": null,
            "min_width": null,
            "border": null,
            "align_items": null,
            "bottom": null,
            "_model_module": "@jupyter-widgets/base",
            "top": null,
            "grid_column": null,
            "overflow_y": null,
            "overflow_x": null,
            "grid_auto_flow": null,
            "grid_area": null,
            "grid_template_columns": null,
            "flex": null,
            "_model_name": "LayoutModel",
            "justify_items": null,
            "grid_row": null,
            "max_height": null,
            "align_content": null,
            "visibility": null,
            "align_self": null,
            "height": null,
            "min_height": null,
            "padding": null,
            "grid_auto_rows": null,
            "grid_gap": null,
            "max_width": null,
            "order": null,
            "_view_module_version": "1.2.0",
            "grid_template_areas": null,
            "object_position": null,
            "object_fit": null,
            "grid_auto_columns": null,
            "margin": null,
            "display": null,
            "left": null
          }
        },
        "3d346714fd6645978b48861d2f712390": {
          "model_module": "@jupyter-widgets/controls",
          "model_name": "SliderStyleModel",
          "state": {
            "_view_name": "StyleView",
            "handle_color": null,
            "_model_name": "SliderStyleModel",
            "description_width": "",
            "_view_module": "@jupyter-widgets/base",
            "_model_module_version": "1.5.0",
            "_view_count": null,
            "_view_module_version": "1.2.0",
            "_model_module": "@jupyter-widgets/controls"
          }
        },
        "a637bc5c1ed8418fa6f788bf5b124a97": {
          "model_module": "@jupyter-widgets/base",
          "model_name": "LayoutModel",
          "state": {
            "_view_name": "LayoutView",
            "grid_template_rows": null,
            "right": null,
            "justify_content": null,
            "_view_module": "@jupyter-widgets/base",
            "overflow": null,
            "_model_module_version": "1.2.0",
            "_view_count": null,
            "flex_flow": null,
            "width": null,
            "min_width": null,
            "border": null,
            "align_items": null,
            "bottom": null,
            "_model_module": "@jupyter-widgets/base",
            "top": null,
            "grid_column": null,
            "overflow_y": null,
            "overflow_x": null,
            "grid_auto_flow": null,
            "grid_area": null,
            "grid_template_columns": null,
            "flex": null,
            "_model_name": "LayoutModel",
            "justify_items": null,
            "grid_row": null,
            "max_height": null,
            "align_content": null,
            "visibility": null,
            "align_self": null,
            "height": null,
            "min_height": null,
            "padding": null,
            "grid_auto_rows": null,
            "grid_gap": null,
            "max_width": null,
            "order": null,
            "_view_module_version": "1.2.0",
            "grid_template_areas": null,
            "object_position": null,
            "object_fit": null,
            "grid_auto_columns": null,
            "margin": null,
            "display": null,
            "left": null
          }
        },
        "57efda83efcf40df8abefe3e46a035d9": {
          "model_module": "@jupyter-widgets/controls",
          "model_name": "SliderStyleModel",
          "state": {
            "_view_name": "StyleView",
            "handle_color": null,
            "_model_name": "SliderStyleModel",
            "description_width": "",
            "_view_module": "@jupyter-widgets/base",
            "_model_module_version": "1.5.0",
            "_view_count": null,
            "_view_module_version": "1.2.0",
            "_model_module": "@jupyter-widgets/controls"
          }
        },
        "2ca156805504457da72e88c31a92a6b2": {
          "model_module": "@jupyter-widgets/base",
          "model_name": "LayoutModel",
          "state": {
            "_view_name": "LayoutView",
            "grid_template_rows": null,
            "right": null,
            "justify_content": null,
            "_view_module": "@jupyter-widgets/base",
            "overflow": null,
            "_model_module_version": "1.2.0",
            "_view_count": null,
            "flex_flow": null,
            "width": null,
            "min_width": null,
            "border": null,
            "align_items": null,
            "bottom": null,
            "_model_module": "@jupyter-widgets/base",
            "top": null,
            "grid_column": null,
            "overflow_y": null,
            "overflow_x": null,
            "grid_auto_flow": null,
            "grid_area": null,
            "grid_template_columns": null,
            "flex": null,
            "_model_name": "LayoutModel",
            "justify_items": null,
            "grid_row": null,
            "max_height": null,
            "align_content": null,
            "visibility": null,
            "align_self": null,
            "height": null,
            "min_height": null,
            "padding": null,
            "grid_auto_rows": null,
            "grid_gap": null,
            "max_width": null,
            "order": null,
            "_view_module_version": "1.2.0",
            "grid_template_areas": null,
            "object_position": null,
            "object_fit": null,
            "grid_auto_columns": null,
            "margin": null,
            "display": null,
            "left": null
          }
        },
        "8c4ec11cf25f47339dc948d331df3c49": {
          "model_module": "@jupyter-widgets/base",
          "model_name": "LayoutModel",
          "state": {
            "_view_name": "LayoutView",
            "grid_template_rows": null,
            "right": null,
            "justify_content": null,
            "_view_module": "@jupyter-widgets/base",
            "overflow": null,
            "_model_module_version": "1.2.0",
            "_view_count": null,
            "flex_flow": null,
            "width": null,
            "min_width": null,
            "border": null,
            "align_items": null,
            "bottom": null,
            "_model_module": "@jupyter-widgets/base",
            "top": null,
            "grid_column": null,
            "overflow_y": null,
            "overflow_x": null,
            "grid_auto_flow": null,
            "grid_area": null,
            "grid_template_columns": null,
            "flex": null,
            "_model_name": "LayoutModel",
            "justify_items": null,
            "grid_row": null,
            "max_height": null,
            "align_content": null,
            "visibility": null,
            "align_self": null,
            "height": null,
            "min_height": null,
            "padding": null,
            "grid_auto_rows": null,
            "grid_gap": null,
            "max_width": null,
            "order": null,
            "_view_module_version": "1.2.0",
            "grid_template_areas": null,
            "object_position": null,
            "object_fit": null,
            "grid_auto_columns": null,
            "margin": null,
            "display": null,
            "left": null
          }
        },
        "9cc4d6d27d3c4724891d913a5fea8dd9": {
          "model_module": "@jupyter-widgets/controls",
          "model_name": "VBoxModel",
          "state": {
            "_view_name": "VBoxView",
            "_dom_classes": [
              "widget-interact"
            ],
            "_model_name": "VBoxModel",
            "_view_module": "@jupyter-widgets/controls",
            "_model_module_version": "1.5.0",
            "_view_count": null,
            "_view_module_version": "1.5.0",
            "box_style": "",
            "layout": "IPY_MODEL_ac91e66764814585a7314c3ba881adc2",
            "_model_module": "@jupyter-widgets/controls",
            "children": [
              "IPY_MODEL_19403319d08f49a39817c8e226291531",
              "IPY_MODEL_5cff5db2060d4b339abae1b26cea62a3",
              "IPY_MODEL_fbbcf3225ae74835a4b9cbc484b52f70",
              "IPY_MODEL_b610781a620e4499a99745aef2dc48b7"
            ]
          }
        },
        "ac91e66764814585a7314c3ba881adc2": {
          "model_module": "@jupyter-widgets/base",
          "model_name": "LayoutModel",
          "state": {
            "_view_name": "LayoutView",
            "grid_template_rows": null,
            "right": null,
            "justify_content": null,
            "_view_module": "@jupyter-widgets/base",
            "overflow": null,
            "_model_module_version": "1.2.0",
            "_view_count": null,
            "flex_flow": null,
            "width": null,
            "min_width": null,
            "border": null,
            "align_items": null,
            "bottom": null,
            "_model_module": "@jupyter-widgets/base",
            "top": null,
            "grid_column": null,
            "overflow_y": null,
            "overflow_x": null,
            "grid_auto_flow": null,
            "grid_area": null,
            "grid_template_columns": null,
            "flex": null,
            "_model_name": "LayoutModel",
            "justify_items": null,
            "grid_row": null,
            "max_height": null,
            "align_content": null,
            "visibility": null,
            "align_self": null,
            "height": null,
            "min_height": null,
            "padding": null,
            "grid_auto_rows": null,
            "grid_gap": null,
            "max_width": null,
            "order": null,
            "_view_module_version": "1.2.0",
            "grid_template_areas": null,
            "object_position": null,
            "object_fit": null,
            "grid_auto_columns": null,
            "margin": null,
            "display": null,
            "left": null
          }
        },
        "19403319d08f49a39817c8e226291531": {
          "model_module": "@jupyter-widgets/controls",
          "model_name": "IntSliderModel",
          "state": {
            "_view_name": "IntSliderView",
            "style": "IPY_MODEL_ce732993eef046c1bf3882f8988352b4",
            "_dom_classes": [],
            "description": "x",
            "step": 1,
            "_model_name": "IntSliderModel",
            "orientation": "horizontal",
            "max": 617,
            "_view_module": "@jupyter-widgets/controls",
            "_model_module_version": "1.5.0",
            "value": 513,
            "_view_count": null,
            "disabled": false,
            "_view_module_version": "1.5.0",
            "min": 0,
            "continuous_update": true,
            "readout_format": "d",
            "description_tooltip": null,
            "readout": true,
            "_model_module": "@jupyter-widgets/controls",
            "layout": "IPY_MODEL_94c7345d6bfa44d6898280702676146d"
          }
        },
        "5cff5db2060d4b339abae1b26cea62a3": {
          "model_module": "@jupyter-widgets/controls",
          "model_name": "IntSliderModel",
          "state": {
            "_view_name": "IntSliderView",
            "style": "IPY_MODEL_28fffd820ad840439d1c76fe1604046e",
            "_dom_classes": [],
            "description": "y",
            "step": 1,
            "_model_name": "IntSliderModel",
            "orientation": "horizontal",
            "max": 418,
            "_view_module": "@jupyter-widgets/controls",
            "_model_module_version": "1.5.0",
            "value": 290,
            "_view_count": null,
            "disabled": false,
            "_view_module_version": "1.5.0",
            "min": 0,
            "continuous_update": true,
            "readout_format": "d",
            "description_tooltip": null,
            "readout": true,
            "_model_module": "@jupyter-widgets/controls",
            "layout": "IPY_MODEL_101224c20ef745f1bacfc6e67c1a2407"
          }
        },
        "fbbcf3225ae74835a4b9cbc484b52f70": {
          "model_module": "@jupyter-widgets/controls",
          "model_name": "IntSliderModel",
          "state": {
            "_view_name": "IntSliderView",
            "style": "IPY_MODEL_e765b8e255da4dcabe9cf569c573919e",
            "_dom_classes": [],
            "description": "thresh",
            "step": 1,
            "_model_name": "IntSliderModel",
            "orientation": "horizontal",
            "max": 10,
            "_view_module": "@jupyter-widgets/controls",
            "_model_module_version": "1.5.0",
            "value": 6,
            "_view_count": null,
            "disabled": false,
            "_view_module_version": "1.5.0",
            "min": 1,
            "continuous_update": true,
            "readout_format": "d",
            "description_tooltip": null,
            "readout": true,
            "_model_module": "@jupyter-widgets/controls",
            "layout": "IPY_MODEL_465903b373ff42b6a30f957e02c342f4"
          }
        },
        "b610781a620e4499a99745aef2dc48b7": {
          "model_module": "@jupyter-widgets/output",
          "model_name": "OutputModel",
          "state": {
            "_view_name": "OutputView",
            "msg_id": "",
            "_dom_classes": [],
            "_model_name": "OutputModel",
            "outputs": [
              {
                "output_type": "stream",
                "metadata": {
                  "tags": []
                },
                "text": "680\n",
                "stream": "stdout"
              },
              {
                "output_type": "display_data",
                "metadata": {
                  "tags": [],
                  "needs_background": "light"
                },
                "image/png": "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\n",
                "text/plain": "<Figure size 432x288 with 1 Axes>"
              }
            ],
            "_view_module": "@jupyter-widgets/output",
            "_model_module_version": "1.0.0",
            "_view_count": null,
            "_view_module_version": "1.0.0",
            "layout": "IPY_MODEL_d1ddd28da8f74db9b5ae0b058a3dd571",
            "_model_module": "@jupyter-widgets/output"
          }
        },
        "ce732993eef046c1bf3882f8988352b4": {
          "model_module": "@jupyter-widgets/controls",
          "model_name": "SliderStyleModel",
          "state": {
            "_view_name": "StyleView",
            "handle_color": null,
            "_model_name": "SliderStyleModel",
            "description_width": "",
            "_view_module": "@jupyter-widgets/base",
            "_model_module_version": "1.5.0",
            "_view_count": null,
            "_view_module_version": "1.2.0",
            "_model_module": "@jupyter-widgets/controls"
          }
        },
        "94c7345d6bfa44d6898280702676146d": {
          "model_module": "@jupyter-widgets/base",
          "model_name": "LayoutModel",
          "state": {
            "_view_name": "LayoutView",
            "grid_template_rows": null,
            "right": null,
            "justify_content": null,
            "_view_module": "@jupyter-widgets/base",
            "overflow": null,
            "_model_module_version": "1.2.0",
            "_view_count": null,
            "flex_flow": null,
            "width": null,
            "min_width": null,
            "border": null,
            "align_items": null,
            "bottom": null,
            "_model_module": "@jupyter-widgets/base",
            "top": null,
            "grid_column": null,
            "overflow_y": null,
            "overflow_x": null,
            "grid_auto_flow": null,
            "grid_area": null,
            "grid_template_columns": null,
            "flex": null,
            "_model_name": "LayoutModel",
            "justify_items": null,
            "grid_row": null,
            "max_height": null,
            "align_content": null,
            "visibility": null,
            "align_self": null,
            "height": null,
            "min_height": null,
            "padding": null,
            "grid_auto_rows": null,
            "grid_gap": null,
            "max_width": null,
            "order": null,
            "_view_module_version": "1.2.0",
            "grid_template_areas": null,
            "object_position": null,
            "object_fit": null,
            "grid_auto_columns": null,
            "margin": null,
            "display": null,
            "left": null
          }
        },
        "28fffd820ad840439d1c76fe1604046e": {
          "model_module": "@jupyter-widgets/controls",
          "model_name": "SliderStyleModel",
          "state": {
            "_view_name": "StyleView",
            "handle_color": null,
            "_model_name": "SliderStyleModel",
            "description_width": "",
            "_view_module": "@jupyter-widgets/base",
            "_model_module_version": "1.5.0",
            "_view_count": null,
            "_view_module_version": "1.2.0",
            "_model_module": "@jupyter-widgets/controls"
          }
        },
        "101224c20ef745f1bacfc6e67c1a2407": {
          "model_module": "@jupyter-widgets/base",
          "model_name": "LayoutModel",
          "state": {
            "_view_name": "LayoutView",
            "grid_template_rows": null,
            "right": null,
            "justify_content": null,
            "_view_module": "@jupyter-widgets/base",
            "overflow": null,
            "_model_module_version": "1.2.0",
            "_view_count": null,
            "flex_flow": null,
            "width": null,
            "min_width": null,
            "border": null,
            "align_items": null,
            "bottom": null,
            "_model_module": "@jupyter-widgets/base",
            "top": null,
            "grid_column": null,
            "overflow_y": null,
            "overflow_x": null,
            "grid_auto_flow": null,
            "grid_area": null,
            "grid_template_columns": null,
            "flex": null,
            "_model_name": "LayoutModel",
            "justify_items": null,
            "grid_row": null,
            "max_height": null,
            "align_content": null,
            "visibility": null,
            "align_self": null,
            "height": null,
            "min_height": null,
            "padding": null,
            "grid_auto_rows": null,
            "grid_gap": null,
            "max_width": null,
            "order": null,
            "_view_module_version": "1.2.0",
            "grid_template_areas": null,
            "object_position": null,
            "object_fit": null,
            "grid_auto_columns": null,
            "margin": null,
            "display": null,
            "left": null
          }
        },
        "e765b8e255da4dcabe9cf569c573919e": {
          "model_module": "@jupyter-widgets/controls",
          "model_name": "SliderStyleModel",
          "state": {
            "_view_name": "StyleView",
            "handle_color": null,
            "_model_name": "SliderStyleModel",
            "description_width": "",
            "_view_module": "@jupyter-widgets/base",
            "_model_module_version": "1.5.0",
            "_view_count": null,
            "_view_module_version": "1.2.0",
            "_model_module": "@jupyter-widgets/controls"
          }
        },
        "465903b373ff42b6a30f957e02c342f4": {
          "model_module": "@jupyter-widgets/base",
          "model_name": "LayoutModel",
          "state": {
            "_view_name": "LayoutView",
            "grid_template_rows": null,
            "right": null,
            "justify_content": null,
            "_view_module": "@jupyter-widgets/base",
            "overflow": null,
            "_model_module_version": "1.2.0",
            "_view_count": null,
            "flex_flow": null,
            "width": null,
            "min_width": null,
            "border": null,
            "align_items": null,
            "bottom": null,
            "_model_module": "@jupyter-widgets/base",
            "top": null,
            "grid_column": null,
            "overflow_y": null,
            "overflow_x": null,
            "grid_auto_flow": null,
            "grid_area": null,
            "grid_template_columns": null,
            "flex": null,
            "_model_name": "LayoutModel",
            "justify_items": null,
            "grid_row": null,
            "max_height": null,
            "align_content": null,
            "visibility": null,
            "align_self": null,
            "height": null,
            "min_height": null,
            "padding": null,
            "grid_auto_rows": null,
            "grid_gap": null,
            "max_width": null,
            "order": null,
            "_view_module_version": "1.2.0",
            "grid_template_areas": null,
            "object_position": null,
            "object_fit": null,
            "grid_auto_columns": null,
            "margin": null,
            "display": null,
            "left": null
          }
        },
        "d1ddd28da8f74db9b5ae0b058a3dd571": {
          "model_module": "@jupyter-widgets/base",
          "model_name": "LayoutModel",
          "state": {
            "_view_name": "LayoutView",
            "grid_template_rows": null,
            "right": null,
            "justify_content": null,
            "_view_module": "@jupyter-widgets/base",
            "overflow": null,
            "_model_module_version": "1.2.0",
            "_view_count": null,
            "flex_flow": null,
            "width": null,
            "min_width": null,
            "border": null,
            "align_items": null,
            "bottom": null,
            "_model_module": "@jupyter-widgets/base",
            "top": null,
            "grid_column": null,
            "overflow_y": null,
            "overflow_x": null,
            "grid_auto_flow": null,
            "grid_area": null,
            "grid_template_columns": null,
            "flex": null,
            "_model_name": "LayoutModel",
            "justify_items": null,
            "grid_row": null,
            "max_height": null,
            "align_content": null,
            "visibility": null,
            "align_self": null,
            "height": null,
            "min_height": null,
            "padding": null,
            "grid_auto_rows": null,
            "grid_gap": null,
            "max_width": null,
            "order": null,
            "_view_module_version": "1.2.0",
            "grid_template_areas": null,
            "object_position": null,
            "object_fit": null,
            "grid_auto_columns": null,
            "margin": null,
            "display": null,
            "left": null
          }
        },
        "df15b31164a24c5080f05963b7504d8c": {
          "model_module": "@jupyter-widgets/controls",
          "model_name": "VBoxModel",
          "state": {
            "_view_name": "VBoxView",
            "_dom_classes": [
              "widget-interact"
            ],
            "_model_name": "VBoxModel",
            "_view_module": "@jupyter-widgets/controls",
            "_model_module_version": "1.5.0",
            "_view_count": null,
            "_view_module_version": "1.5.0",
            "box_style": "",
            "layout": "IPY_MODEL_8b1560854f2b439f906363dc6fb715f7",
            "_model_module": "@jupyter-widgets/controls",
            "children": [
              "IPY_MODEL_96c85787c45c4ae3900013e7db7e24f4",
              "IPY_MODEL_7c1411e9b39a4d259b0ce7b0db635985",
              "IPY_MODEL_20ec8b4816cd407a8951003a67e01d7a"
            ]
          }
        },
        "8b1560854f2b439f906363dc6fb715f7": {
          "model_module": "@jupyter-widgets/base",
          "model_name": "LayoutModel",
          "state": {
            "_view_name": "LayoutView",
            "grid_template_rows": null,
            "right": null,
            "justify_content": null,
            "_view_module": "@jupyter-widgets/base",
            "overflow": null,
            "_model_module_version": "1.2.0",
            "_view_count": null,
            "flex_flow": null,
            "width": null,
            "min_width": null,
            "border": null,
            "align_items": null,
            "bottom": null,
            "_model_module": "@jupyter-widgets/base",
            "top": null,
            "grid_column": null,
            "overflow_y": null,
            "overflow_x": null,
            "grid_auto_flow": null,
            "grid_area": null,
            "grid_template_columns": null,
            "flex": null,
            "_model_name": "LayoutModel",
            "justify_items": null,
            "grid_row": null,
            "max_height": null,
            "align_content": null,
            "visibility": null,
            "align_self": null,
            "height": null,
            "min_height": null,
            "padding": null,
            "grid_auto_rows": null,
            "grid_gap": null,
            "max_width": null,
            "order": null,
            "_view_module_version": "1.2.0",
            "grid_template_areas": null,
            "object_position": null,
            "object_fit": null,
            "grid_auto_columns": null,
            "margin": null,
            "display": null,
            "left": null
          }
        },
        "96c85787c45c4ae3900013e7db7e24f4": {
          "model_module": "@jupyter-widgets/controls",
          "model_name": "IntSliderModel",
          "state": {
            "_view_name": "IntSliderView",
            "style": "IPY_MODEL_6454e40759754394ab81992026278276",
            "_dom_classes": [],
            "description": "sample",
            "step": 1,
            "_model_name": "IntSliderModel",
            "orientation": "horizontal",
            "max": 1250,
            "_view_module": "@jupyter-widgets/controls",
            "_model_module_version": "1.5.0",
            "value": 1250,
            "_view_count": null,
            "disabled": false,
            "_view_module_version": "1.5.0",
            "min": 5,
            "continuous_update": true,
            "readout_format": "d",
            "description_tooltip": null,
            "readout": true,
            "_model_module": "@jupyter-widgets/controls",
            "layout": "IPY_MODEL_b7bfe001f6d8443a87d4a28839ffc548"
          }
        },
        "7c1411e9b39a4d259b0ce7b0db635985": {
          "model_module": "@jupyter-widgets/controls",
          "model_name": "IntSliderModel",
          "state": {
            "_view_name": "IntSliderView",
            "style": "IPY_MODEL_38e95fdf9e5b460b85acf00e82b3ed59",
            "_dom_classes": [],
            "description": "conv_size",
            "step": 2,
            "_model_name": "IntSliderModel",
            "orientation": "horizontal",
            "max": 21,
            "_view_module": "@jupyter-widgets/controls",
            "_model_module_version": "1.5.0",
            "value": 1,
            "_view_count": null,
            "disabled": false,
            "_view_module_version": "1.5.0",
            "min": 1,
            "continuous_update": true,
            "readout_format": "d",
            "description_tooltip": null,
            "readout": true,
            "_model_module": "@jupyter-widgets/controls",
            "layout": "IPY_MODEL_ef9980ab03a5498f967f22ad0fff46ec"
          }
        },
        "20ec8b4816cd407a8951003a67e01d7a": {
          "model_module": "@jupyter-widgets/output",
          "model_name": "OutputModel",
          "state": {
            "_view_name": "OutputView",
            "msg_id": "",
            "_dom_classes": [],
            "_model_name": "OutputModel",
            "outputs": [
              {
                "output_type": "display_data",
                "metadata": {
                  "tags": [],
                  "needs_background": "light"
                },
                "image/png": "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\n",
                "text/plain": "<Figure size 432x288 with 1 Axes>"
              }
            ],
            "_view_module": "@jupyter-widgets/output",
            "_model_module_version": "1.0.0",
            "_view_count": null,
            "_view_module_version": "1.0.0",
            "layout": "IPY_MODEL_acfded0abf964751b1ee3aaa716682b0",
            "_model_module": "@jupyter-widgets/output"
          }
        },
        "6454e40759754394ab81992026278276": {
          "model_module": "@jupyter-widgets/controls",
          "model_name": "SliderStyleModel",
          "state": {
            "_view_name": "StyleView",
            "handle_color": null,
            "_model_name": "SliderStyleModel",
            "description_width": "",
            "_view_module": "@jupyter-widgets/base",
            "_model_module_version": "1.5.0",
            "_view_count": null,
            "_view_module_version": "1.2.0",
            "_model_module": "@jupyter-widgets/controls"
          }
        },
        "b7bfe001f6d8443a87d4a28839ffc548": {
          "model_module": "@jupyter-widgets/base",
          "model_name": "LayoutModel",
          "state": {
            "_view_name": "LayoutView",
            "grid_template_rows": null,
            "right": null,
            "justify_content": null,
            "_view_module": "@jupyter-widgets/base",
            "overflow": null,
            "_model_module_version": "1.2.0",
            "_view_count": null,
            "flex_flow": null,
            "width": null,
            "min_width": null,
            "border": null,
            "align_items": null,
            "bottom": null,
            "_model_module": "@jupyter-widgets/base",
            "top": null,
            "grid_column": null,
            "overflow_y": null,
            "overflow_x": null,
            "grid_auto_flow": null,
            "grid_area": null,
            "grid_template_columns": null,
            "flex": null,
            "_model_name": "LayoutModel",
            "justify_items": null,
            "grid_row": null,
            "max_height": null,
            "align_content": null,
            "visibility": null,
            "align_self": null,
            "height": null,
            "min_height": null,
            "padding": null,
            "grid_auto_rows": null,
            "grid_gap": null,
            "max_width": null,
            "order": null,
            "_view_module_version": "1.2.0",
            "grid_template_areas": null,
            "object_position": null,
            "object_fit": null,
            "grid_auto_columns": null,
            "margin": null,
            "display": null,
            "left": null
          }
        },
        "38e95fdf9e5b460b85acf00e82b3ed59": {
          "model_module": "@jupyter-widgets/controls",
          "model_name": "SliderStyleModel",
          "state": {
            "_view_name": "StyleView",
            "handle_color": null,
            "_model_name": "SliderStyleModel",
            "description_width": "",
            "_view_module": "@jupyter-widgets/base",
            "_model_module_version": "1.5.0",
            "_view_count": null,
            "_view_module_version": "1.2.0",
            "_model_module": "@jupyter-widgets/controls"
          }
        },
        "ef9980ab03a5498f967f22ad0fff46ec": {
          "model_module": "@jupyter-widgets/base",
          "model_name": "LayoutModel",
          "state": {
            "_view_name": "LayoutView",
            "grid_template_rows": null,
            "right": null,
            "justify_content": null,
            "_view_module": "@jupyter-widgets/base",
            "overflow": null,
            "_model_module_version": "1.2.0",
            "_view_count": null,
            "flex_flow": null,
            "width": null,
            "min_width": null,
            "border": null,
            "align_items": null,
            "bottom": null,
            "_model_module": "@jupyter-widgets/base",
            "top": null,
            "grid_column": null,
            "overflow_y": null,
            "overflow_x": null,
            "grid_auto_flow": null,
            "grid_area": null,
            "grid_template_columns": null,
            "flex": null,
            "_model_name": "LayoutModel",
            "justify_items": null,
            "grid_row": null,
            "max_height": null,
            "align_content": null,
            "visibility": null,
            "align_self": null,
            "height": null,
            "min_height": null,
            "padding": null,
            "grid_auto_rows": null,
            "grid_gap": null,
            "max_width": null,
            "order": null,
            "_view_module_version": "1.2.0",
            "grid_template_areas": null,
            "object_position": null,
            "object_fit": null,
            "grid_auto_columns": null,
            "margin": null,
            "display": null,
            "left": null
          }
        },
        "acfded0abf964751b1ee3aaa716682b0": {
          "model_module": "@jupyter-widgets/base",
          "model_name": "LayoutModel",
          "state": {
            "_view_name": "LayoutView",
            "grid_template_rows": null,
            "right": null,
            "justify_content": null,
            "_view_module": "@jupyter-widgets/base",
            "overflow": null,
            "_model_module_version": "1.2.0",
            "_view_count": null,
            "flex_flow": null,
            "width": null,
            "min_width": null,
            "border": null,
            "align_items": null,
            "bottom": null,
            "_model_module": "@jupyter-widgets/base",
            "top": null,
            "grid_column": null,
            "overflow_y": null,
            "overflow_x": null,
            "grid_auto_flow": null,
            "grid_area": null,
            "grid_template_columns": null,
            "flex": null,
            "_model_name": "LayoutModel",
            "justify_items": null,
            "grid_row": null,
            "max_height": null,
            "align_content": null,
            "visibility": null,
            "align_self": null,
            "height": null,
            "min_height": null,
            "padding": null,
            "grid_auto_rows": null,
            "grid_gap": null,
            "max_width": null,
            "order": null,
            "_view_module_version": "1.2.0",
            "grid_template_areas": null,
            "object_position": null,
            "object_fit": null,
            "grid_auto_columns": null,
            "margin": null,
            "display": null,
            "left": null
          }
        }
      }
    }
  },
  "cells": [
    {
      "cell_type": "code",
      "metadata": {
        "id": "gkhHVQD8RRPC"
      },
      "source": [
        "import numpy as np\n",
        "import matplotlib.pyplot as plt\n",
        "from ipywidgets import interact\n",
        "import requests\n",
        "from PIL import Image\n",
        "import io"
      ],
      "execution_count": 1,
      "outputs": []
    },
    {
      "cell_type": "markdown",
      "metadata": {
        "id": "Bel_NNstT0Cs"
      },
      "source": [
        "## URLから画像データの取得、とりあえず透明度の情報は無視"
      ]
    },
    {
      "cell_type": "code",
      "metadata": {
        "id": "u8uQ_BG4ZqBA",
        "outputId": "c46c4856-cce8-41e5-bf16-1886e418a11e",
        "colab": {
          "base_uri": "https://localhost:8080/",
          "height": 287
        }
      },
      "source": [
        "url = \"https://pandas.pydata.org/pandas-docs/version/0.7.3/_images/frame_plot_basic_noleg.png\"\n",
        "im = np.array(Image.open(io.BytesIO(requests.get(url).content)))[::-1]/255\n",
        "if im.shape[2] == 4:im = im[:,:,:-1]\n",
        "h, w, _ = im.shape\n",
        "plt.imshow(im[::-1])"
      ],
      "execution_count": 2,
      "outputs": [
        {
          "output_type": "execute_result",
          "data": {
            "text/plain": [
              "<matplotlib.image.AxesImage at 0x7f32d1374b00>"
            ]
          },
          "metadata": {
            "tags": []
          },
          "execution_count": 2
        },
        {
          "output_type": "display_data",
          "data": {
            "image/png": "[encoded data removed]",
            "text/plain": [
              "<Figure size 432x288 with 1 Axes>"
            ]
          },
          "metadata": {
            "tags": [],
            "needs_background": "light"
          }
        }
      ]
    },
    {
      "cell_type": "markdown",
      "metadata": {
        "id": "2FNPb9t6UQNL"
      },
      "source": [
        "## 後のスケール調節用にグラフの範囲のみトリミング"
      ]
    },
    {
      "cell_type": "code",
      "metadata": {
        "id": "WCWH2kpdRVcw",
        "outputId": "1614e90c-92e3-43c3-ec04-f8f0fdf56e28",
        "colab": {
          "base_uri": "https://localhost:8080/",
          "height": 444,
          "referenced_widgets": [
            "88b738c19eb2468cb99ff186c058d468",
            "2d50b1d66ed24587bc70d3719951510e",
            "dde19a9154a24982b80e78fc077e2069",
            "fc9c7034a091452f80c264e7e9aa4b5e",
            "eafd11db773a4dd791a5a6b0ca30a183",
            "4481fcf021254c4a9050df845da21a32",
            "2599b7cef947432391f200dbeb9b8591",
            "0c5622d605ba49789c6b5c425fa7a198",
            "2a60e513b4674619a56a1c17be5c1bcb",
            "a72faf7f31fc47c0a0870a7aae9d0f47",
            "37bae730b17e42a8acac303a2d18a7b5",
            "3d346714fd6645978b48861d2f712390",
            "a637bc5c1ed8418fa6f788bf5b124a97",
            "57efda83efcf40df8abefe3e46a035d9",
            "2ca156805504457da72e88c31a92a6b2",
            "8c4ec11cf25f47339dc948d331df3c49"
          ]
        }
      },
      "source": [
        "@interact(x_min=(0, w), x_max=(0, w), y_min=(0,h), y_max=(0,h))\n",
        "def Plot(x_min=0, x_max=w, y_min=0, y_max=h):\n",
        "    global imag\n",
        "    plt.figure(figsize=(7, 7))\n",
        "    imag = im[min(y_min,y_max-1):max(y_min+1, y_max), min(x_min,x_max-1):max(x_min+1, x_max)]\n",
        "    plt.imshow(imag[::-1])"
      ],
      "execution_count": 3,
      "outputs": [
        {
          "output_type": "display_data",
          "data": {
            "application/vnd.jupyter.widget-view+json": {
              "model_id": "88b738c19eb2468cb99ff186c058d468",
              "version_minor": 0,
              "version_major": 2
            },
            "text/plain": [
              "interactive(children=(IntSlider(value=0, description='x_min', max=687), IntSlider(value=687, description='x_ma…"
            ]
          },
          "metadata": {
            "tags": []
          }
        }
      ]
    },
    {
      "cell_type": "markdown",
      "metadata": {
        "id": "POOwRZQrUydJ"
      },
      "source": [
        "## 色域選択で抽出したいグラフを選択, Threshold(閾値)を調節して無駄な部分が入らないようにする"
      ]
    },
    {
      "cell_type": "code",
      "metadata": {
        "id": "SDh5NBLcRWYp",
        "outputId": "fc932d14-6b53-4c8e-d8f8-32a630787315",
        "colab": {
          "base_uri": "https://localhost:8080/",
          "height": 383,
          "referenced_widgets": [
            "9cc4d6d27d3c4724891d913a5fea8dd9",
            "ac91e66764814585a7314c3ba881adc2",
            "19403319d08f49a39817c8e226291531",
            "5cff5db2060d4b339abae1b26cea62a3",
            "fbbcf3225ae74835a4b9cbc484b52f70",
            "b610781a620e4499a99745aef2dc48b7",
            "ce732993eef046c1bf3882f8988352b4",
            "94c7345d6bfa44d6898280702676146d",
            "28fffd820ad840439d1c76fe1604046e",
            "101224c20ef745f1bacfc6e67c1a2407",
            "e765b8e255da4dcabe9cf569c573919e",
            "465903b373ff42b6a30f957e02c342f4",
            "d1ddd28da8f74db9b5ae0b058a3dd571"
          ]
        }
      },
      "source": [
        "@interact(x=(0, imag.shape[1]), y=(0,imag.shape[0]), thresh=(1,10))\n",
        "def Plot(x, y, thresh):\n",
        "    global p\n",
        "    p = ((imag - imag[y, x]) ** 2).sum(axis=2) < (1 / (1<<thresh))\n",
        "    print(p.sum())\n",
        "    plt.imshow(p[::-1])\n",
        "    plt.plot([x, x], [0, imag.shape[0]], color=\"r\")\n",
        "    plt.plot([0, imag.shape[1]], [imag.shape[0]-y, imag.shape[0]-y], color=\"r\")"
      ],
      "execution_count": 4,
      "outputs": [
        {
          "output_type": "display_data",
          "data": {
            "application/vnd.jupyter.widget-view+json": {
              "model_id": "9cc4d6d27d3c4724891d913a5fea8dd9",
              "version_minor": 0,
              "version_major": 2
            },
            "text/plain": [
              "interactive(children=(IntSlider(value=308, description='x', max=617), IntSlider(value=209, description='y', ma…"
            ]
          },
          "metadata": {
            "tags": []
          }
        }
      ]
    },
    {
      "cell_type": "markdown",
      "metadata": {
        "id": "bL2N77A-Vf5o"
      },
      "source": [
        "## 縦軸方向に平均を取る"
      ]
    },
    {
      "cell_type": "code",
      "metadata": {
        "id": "fiBO6fl1R22h"
      },
      "source": [
        "p = np.pad(p, 1, \"constant\")\n",
        "sx = np.arange(len(p[0]))[p.argmax(axis=0)!=0]\n",
        "sy = []\n",
        "\n",
        "for i in p.T:\n",
        "    j = np.where(i!=0)[0]\n",
        "    if j.tolist():\n",
        "        sy.append(j.mean())"
      ],
      "execution_count": 5,
      "outputs": []
    },
    {
      "cell_type": "markdown",
      "metadata": {
        "id": "xbgk4s5oVrRi"
      },
      "source": [
        "## サンプル数の選択, 移動平均（畳み込み）でノイズの除去"
      ]
    },
    {
      "cell_type": "code",
      "metadata": {
        "id": "QxQD8TTmR48a",
        "outputId": "a43d27ba-e55a-41d5-ee9b-ced5ff202abb",
        "colab": {
          "base_uri": "https://localhost:8080/",
          "height": 329,
          "referenced_widgets": [
            "df15b31164a24c5080f05963b7504d8c",
            "8b1560854f2b439f906363dc6fb715f7",
            "96c85787c45c4ae3900013e7db7e24f4",
            "7c1411e9b39a4d259b0ce7b0db635985",
            "20ec8b4816cd407a8951003a67e01d7a",
            "6454e40759754394ab81992026278276",
            "b7bfe001f6d8443a87d4a28839ffc548",
            "38e95fdf9e5b460b85acf00e82b3ed59",
            "ef9980ab03a5498f967f22ad0fff46ec",
            "acfded0abf964751b1ee3aaa716682b0"
          ]
        }
      },
      "source": [
        "@interact(sample=(5, 1250), conv_size=(1, 21, 2))\n",
        "def fit(sample, conv_size):\n",
        "    global y\n",
        "    x = np.linspace(sx.min(), sx.max(), sample)\n",
        "    y = np.convolve(np.pad(np.interp(x, sx, sy), (conv_size-1)//2, \"edge\"), np.ones(conv_size) / conv_size, \"valid\")\n",
        "    plt.plot(x, y)\n",
        "    plt.xlim(0,len(p[0]))\n",
        "    plt.ylim(0, len(p))"
      ],
      "execution_count": 6,
      "outputs": [
        {
          "output_type": "display_data",
          "data": {
            "application/vnd.jupyter.widget-view+json": {
              "model_id": "df15b31164a24c5080f05963b7504d8c",
              "version_minor": 0,
              "version_major": 2
            },
            "text/plain": [
              "interactive(children=(IntSlider(value=627, description='sample', max=1250, min=5), IntSlider(value=11, descrip…"
            ]
          },
          "metadata": {
            "tags": []
          }
        }
      ]
    },
    {
      "cell_type": "markdown",
      "metadata": {
        "id": "EdiPPwI-V8IH"
      },
      "source": [
        "## 最初に切り取ったグラフの範囲を入力"
      ]
    },
    {
      "cell_type": "code",
      "metadata": {
        "id": "tpJaGAFuR6bd",
        "outputId": "cbd7ee5b-6813-4dd3-87e9-6b18cd13f2ee",
        "colab": {
          "base_uri": "https://localhost:8080/"
        }
      },
      "source": [
        "yl = list(map(int,input(\"Y-range of trimmed graph?         \").split(\",\")))"
      ],
      "execution_count": 7,
      "outputs": [
        {
          "output_type": "stream",
          "text": [
            "Y-range of trimmed graph?         -40,50\n"
          ],
          "name": "stdout"
        }
      ]
    },
    {
      "cell_type": "markdown",
      "metadata": {
        "id": "6rEx9K9nWGpE"
      },
      "source": [
        "## スケール調整, 出力"
      ]
    },
    {
      "cell_type": "code",
      "metadata": {
        "id": "Ngy31HSYR8OQ",
        "outputId": "26bc7839-0f02-4af8-b42e-e00934ee866a",
        "colab": {
          "base_uri": "https://localhost:8080/"
        }
      },
      "source": [
        "y_out = y * (yl[1] - yl[0]) / p.shape[0] + yl[0]\n",
        "y_out"
      ],
      "execution_count": 8,
      "outputs": [
        {
          "output_type": "execute_result",
          "data": {
            "text/plain": [
              "array([4.78571429, 4.99468146, 5.20364863, ..., 1.56611003, 1.46162644,\n",
              "       1.35714286])"
            ]
          },
          "metadata": {
            "tags": []
          },
          "execution_count": 8
        }
      ]
    },
    {
      "cell_type": "markdown",
      "metadata": {
        "id": "--lB8AWmWP3Q"
      },
      "source": [
        "## グラフ出力"
      ]
    },
    {
      "cell_type": "code",
      "metadata": {
        "id": "QIjM9gpkR_RL",
        "outputId": "ebc75d2a-4641-4fde-ff24-56f2f0f36cfa",
        "colab": {
          "base_uri": "https://localhost:8080/",
          "height": 287
        }
      },
      "source": [
        "plt.plot(y_out)\n",
        "plt.ylim(*yl)"
      ],
      "execution_count": 9,
      "outputs": [
        {
          "output_type": "execute_result",
          "data": {
            "text/plain": [
              "(-40.0, 50.0)"
            ]
          },
          "metadata": {
            "tags": []
          },
          "execution_count": 9
        },
        {
          "output_type": "display_data",
          "data": {
            "image/png": "[encoded data removed]",
            "text/plain": [
              "<Figure size 432x288 with 1 Axes>"
            ]
          },
          "metadata": {
            "tags": [],
            "needs_background": "light"
          }
        }
      ]
    }
  ]
}